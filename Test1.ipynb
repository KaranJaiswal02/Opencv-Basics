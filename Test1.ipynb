{
 "cells": [
  {
   "cell_type": "code",
   "execution_count": 2,
   "id": "e704ad68-4605-4e31-879b-fc2167145849",
   "metadata": {},
   "outputs": [],
   "source": [
    "import cv2 as cv"
   ]
  },
  {
   "cell_type": "code",
   "execution_count": null,
   "id": "13e065e7-429e-4b09-9404-b99507f0c9a7",
   "metadata": {},
   "outputs": [],
   "source": [
    "img = cv.imread('Photos and videos/Pikachu.jpg')\n",
    "#image read in color"
   ]
  },
  {
   "cell_type": "code",
   "execution_count": null,
   "id": "88196786-f87b-4973-a1fc-28b2aff67570",
   "metadata": {},
   "outputs": [
    {
     "data": {
      "text/plain": [
       "-1"
      ]
     },
     "execution_count": 6,
     "metadata": {},
     "output_type": "execute_result"
    }
   ],
   "source": [
    "cv.imshow(\"img window\", img)\n",
    "cv.waitKey(0)\n",
    "#image displayed in a window"
   ]
  },
  {
   "cell_type": "code",
   "execution_count": 9,
   "id": "b8f84130",
   "metadata": {},
   "outputs": [],
   "source": [
    "capture=cv.VideoCapture(\"Photos and videos/input2.mp4\")\n"
   ]
  },
  {
   "cell_type": "code",
   "execution_count": null,
   "id": "5469ddb9-bc8c-479a-997a-cdd1b6f0299c",
   "metadata": {},
   "outputs": [
    {
     "ename": "TypeError",
     "evalue": "unbound method VideoCapture.release() needs an argument",
     "output_type": "error",
     "traceback": [
      "\u001b[31m---------------------------------------------------------------------------\u001b[39m",
      "\u001b[31mTypeError\u001b[39m                                 Traceback (most recent call last)",
      "\u001b[36mCell\u001b[39m\u001b[36m \u001b[39m\u001b[32mIn[10]\u001b[39m\u001b[32m, line 8\u001b[39m\n\u001b[32m      6\u001b[39m     \u001b[38;5;28;01mif\u001b[39;00m cv.waitKey(\u001b[32m1\u001b[39m) & \u001b[32m0xFF\u001b[39m == \u001b[38;5;28mord\u001b[39m(\u001b[33m'\u001b[39m\u001b[33mq\u001b[39m\u001b[33m'\u001b[39m):\n\u001b[32m      7\u001b[39m         \u001b[38;5;28;01mbreak\u001b[39;00m\n\u001b[32m----> \u001b[39m\u001b[32m8\u001b[39m \u001b[43mcv\u001b[49m\u001b[43m.\u001b[49m\u001b[43mVideoCapture\u001b[49m\u001b[43m.\u001b[49m\u001b[43mrelease\u001b[49m\u001b[43m(\u001b[49m\u001b[43m)\u001b[49m\n\u001b[32m      9\u001b[39m cv.destroyAllWindows()\n\u001b[32m     10\u001b[39m \u001b[38;5;66;03m#video read and displayed frame by frame until the end of the video or 'q' is pressed\u001b[39;00m\n\u001b[32m     11\u001b[39m \u001b[38;5;66;03m#VideoCapture is used to read video files or capture video from cameras\u001b[39;00m\n",
      "\u001b[31mTypeError\u001b[39m: unbound method VideoCapture.release() needs an argument"
     ]
    },
    {
     "ename": "",
     "evalue": "",
     "output_type": "error",
     "traceback": [
      "\u001b[1;31mThe Kernel crashed while executing code in the current cell or a previous cell. \n",
      "\u001b[1;31mPlease review the code in the cell(s) to identify a possible cause of the failure. \n",
      "\u001b[1;31mClick <a href='https://aka.ms/vscodeJupyterKernelCrash'>here</a> for more info. \n",
      "\u001b[1;31mView Jupyter <a href='command:jupyter.viewOutput'>log</a> for further details."
     ]
    }
   ],
   "source": [
    "while True:\n",
    "    ret, frame = capture.read()\n",
    "    if not ret:\n",
    "        break\n",
    "    cv.imshow(\"Video Frame\", frame)\n",
    "    if cv.waitKey(1) & 0xFF == ord('q'):\n",
    "        break\n",
    "cv.VideoCapture.release()\n",
    "cv.destroyAllWindows()\n",
    "#video read and displayed frame by frame until the end of the video or 'q' is pressed\n",
    "#VideoCapture is used to read video files or capture video from cameras\n"
   ]
  },
  {
   "cell_type": "code",
   "execution_count": null,
   "id": "ba24c0ff-8947-487c-b0e6-bc473aaed249",
   "metadata": {},
   "outputs": [],
   "source": []
  },
  {
   "cell_type": "code",
   "execution_count": null,
   "id": "d2854316-929c-4ec9-91b9-6b86c3caf065",
   "metadata": {},
   "outputs": [],
   "source": []
  },
  {
   "cell_type": "code",
   "execution_count": null,
   "id": "04db870f-33b1-416a-8980-40b6b9ad1f74",
   "metadata": {},
   "outputs": [],
   "source": []
  },
  {
   "cell_type": "code",
   "execution_count": null,
   "id": "ab4fcba1-6210-4887-a4a1-fb0928f53c2f",
   "metadata": {},
   "outputs": [],
   "source": []
  },
  {
   "cell_type": "code",
   "execution_count": null,
   "id": "600e26b7-16ad-426c-8c1e-f3a2422676e3",
   "metadata": {},
   "outputs": [],
   "source": []
  },
  {
   "cell_type": "code",
   "execution_count": null,
   "id": "cf586269-f932-468e-aa50-a75cbd3e560c",
   "metadata": {},
   "outputs": [],
   "source": []
  },
  {
   "cell_type": "code",
   "execution_count": null,
   "id": "c6a8a33c-dcdd-4853-9e42-fc2995641e8c",
   "metadata": {},
   "outputs": [],
   "source": []
  },
  {
   "cell_type": "code",
   "execution_count": null,
   "id": "1f31af0f-1fdd-4513-b761-5d111b410684",
   "metadata": {},
   "outputs": [],
   "source": []
  }
 ],
 "metadata": {
  "kernelspec": {
   "display_name": "Python 3",
   "language": "python",
   "name": "python3"
  },
  "language_info": {
   "codemirror_mode": {
    "name": "ipython",
    "version": 3
   },
   "file_extension": ".py",
   "mimetype": "text/x-python",
   "name": "python",
   "nbconvert_exporter": "python",
   "pygments_lexer": "ipython3",
   "version": "3.13.5"
  }
 },
 "nbformat": 4,
 "nbformat_minor": 5
}
