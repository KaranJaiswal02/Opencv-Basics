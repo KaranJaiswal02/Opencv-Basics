{
 "cells": [
  {
   "cell_type": "code",
   "execution_count": 3,
   "id": "c4cc3158",
   "metadata": {},
   "outputs": [],
   "source": [
    "import cv2 as cv\n",
    "import numpy as np"
   ]
  },
  {
   "cell_type": "code",
   "execution_count": 2,
   "id": "6ec72b7b",
   "metadata": {},
   "outputs": [],
   "source": [
    "img = cv.imread('Photos and videos/Resources/Photos/park.jpg')\n",
    "cv.imshow('Original', img)\n",
    "if cv.waitKey(0) & 0xFF == ord('q'):\n",
    "    cv.destroyAllWindows()"
   ]
  },
  {
   "cell_type": "code",
   "execution_count": 3,
   "id": "ef4033e2",
   "metadata": {},
   "outputs": [],
   "source": [
    "b,g,r = cv.split(img)\n",
    "cv.imshow('Blue Channel', b)\n",
    "cv.imshow('Green Channel', g)\n",
    "cv.imshow('Red Channel', r)\n",
    "if cv.waitKey(0) & 0xFF == ord('q'):\n",
    "    cv.destroyAllWindows()\n",
    "    "
   ]
  },
  {
   "cell_type": "code",
   "execution_count": 4,
   "id": "ffbbf4ba",
   "metadata": {},
   "outputs": [
    {
     "name": "stdout",
     "output_type": "stream",
     "text": [
      "Blue channel shape: (427, 640)\n",
      "Green channel shape: (427, 640)\n",
      "Red channel shape: (427, 640)\n"
     ]
    }
   ],
   "source": [
    "print('Blue channel shape:', b.shape)\n",
    "print('Green channel shape:', g.shape)\n",
    "print('Red channel shape:', r.shape)"
   ]
  },
  {
   "cell_type": "markdown",
   "id": "38403c00",
   "metadata": {},
   "source": [
    "Creating a blank image and then merge the color channels into the blank image."
   ]
  },
  {
   "cell_type": "code",
   "execution_count": 5,
   "id": "7512fc7f",
   "metadata": {},
   "outputs": [],
   "source": [
    "blank = np.zeros(img.shape[:2], dtype='uint8')"
   ]
  },
  {
   "cell_type": "code",
   "execution_count": null,
   "id": "e8e41645",
   "metadata": {},
   "outputs": [],
   "source": [
    "blue = cv.merge([b, blank, blank])\n",
    "green = cv.merge([blank, g, blank])\n",
    "red = cv.merge([blank, blank, r])\n",
    "cv.imshow('Blue', blue)\n",
    "cv.imshow('Green', green)\n",
    "cv.imshow('Red', red)\n",
    "if cv.waitKey(0) & 0xFF == ord('q'):\n",
    "    cv.destroyAllWindows()"
   ]
  },
  {
   "cell_type": "markdown",
   "id": "1607916c",
   "metadata": {},
   "source": [
    "Blur techniques"
   ]
  },
  {
   "cell_type": "code",
   "execution_count": 9,
   "id": "075b9085",
   "metadata": {},
   "outputs": [],
   "source": [
    "average = cv.blur(img, (7,3))\n",
    "cv.imshow('Average Blur', average)\n",
    "if cv.waitKey(0) & 0xFF == ord('q'):\n",
    "    cv.destroyAllWindows()\n"
   ]
  },
  {
   "cell_type": "code",
   "execution_count": null,
   "id": "60ebfcd4",
   "metadata": {},
   "outputs": [],
   "source": [
    "gaussian = cv.GaussianBlur(img, (7,3), 0)\n",
    "cv.imshow('Gaussian Blur', gaussian)\n",
    "if cv.waitKey(0) & 0xFF == ord('q'):\n",
    "    cv.destroyAllWindows()\n",
    "    #guassian blur has less blur effect than average blur on passing the same kernel size because it uses a Gaussian function to calculate the weights of the pixels in the kernel. \n",
    "    # whereas average blur simply takes the average of all pixels in the kernel without considering their spatial distribution. "
   ]
  },
  {
   "cell_type": "code",
   "execution_count": null,
   "id": "26d13535",
   "metadata": {},
   "outputs": [],
   "source": [
    "bilateral = cv.bilateralFilter(img, 5, 75, 150)\n",
    "cv.imshow('Bilateral Filter', bilateral)\n",
    "cv.imshow('original', img)\n",
    "if cv.waitKey(0) & 0xFF == ord('q'):\n",
    "    cv.destroyAllWindows()\n",
    "    #bilateral filter is better at preserving edges while reducing noise compared to Gaussian and average blurs.\n",
    "    # It does this by considering both the spatial distance and the intensity difference of pixels, allowing it to smooth out noise while keeping edges sharp.\n",
    "    # The bilateral filter is particularly effective for images with varying levels of detail and texture, making it a preferred choice for tasks like image denoising and smoothing while maintaining important features.\n",
    "    # This has the parameters:\n",
    "    # - d: Diameter of the pixel neighborhood used during filtering.\n",
    "    # - sigmaColor: Filter sigma in color space. A larger value means that colors farther apart will be mixed together, resulting in larger areas of semi-equal color.\n",
    "    # - sigmaSpace: Filter sigma in coordinate space. A larger value means that pixels farther apart will influence each other as long as their colors are close enough.\n",
    "    "
   ]
  },
  {
   "cell_type": "markdown",
   "id": "703347f4",
   "metadata": {},
   "source": [
    "Masking "
   ]
  },
  {
   "cell_type": "code",
   "execution_count": 4,
   "id": "36fddb52",
   "metadata": {},
   "outputs": [],
   "source": [
    "img2 =cv.imread('Photos and videos/Resources/Photos/cats.jpg')\n",
    "cv.imshow('Original Cats', img2)\n",
    "if cv.waitKey(0) & 0xFF == ord('q'):\n",
    "    cv.destroyAllWindows()\n",
    "    "
   ]
  },
  {
   "cell_type": "code",
   "execution_count": 25,
   "id": "8630b8a5",
   "metadata": {},
   "outputs": [],
   "source": [
    "blank = np.zeros(img2.shape[:2], dtype='uint8')\n",
    "mask = cv.circle(blank, (img2.shape[1]//2, img2.shape[0]//2), 100, 255, -1)\n",
    "cv.imshow('Mask', mask)\n",
    "if cv.waitKey(0) & 0xFF == ord('q'):\n",
    "    cv.destroyAllWindows()\n",
    "#making means to focus on certain part of the image\n",
    "#"
   ]
  },
  {
   "cell_type": "code",
   "execution_count": 26,
   "id": "1c434a91",
   "metadata": {},
   "outputs": [],
   "source": [
    "masked = cv.bitwise_and(img2, img2, mask=mask)\n",
    "cv.imshow('Masked Image', masked)\n",
    "if cv.waitKey(0) & 0xFF == ord('q'):\n",
    "    cv.destroyAllWindows()\n",
    "#parameters for bitwise_and:\n",
    "# - src1: First input array.\n",
    "# - src2: Second input array Using the same image means the function will keep pixels unchanged wherever the mask is non-zero.\n",
    "# - dst: Output array that has the same size and type as the input arrays."
   ]
  },
  {
   "cell_type": "markdown",
   "id": "3439c75e",
   "metadata": {},
   "source": [
    "Computing Histograms"
   ]
  },
  {
   "cell_type": "code",
   "execution_count": 27,
   "id": "00098ab8",
   "metadata": {},
   "outputs": [],
   "source": [
    "import matplotlib.pyplot as plt"
   ]
  },
  {
   "cell_type": "code",
   "execution_count": 39,
   "id": "343ac025",
   "metadata": {},
   "outputs": [
    {
     "data": {
      "image/png": "[encoded data removed]",
      "text/plain": [
       "<Figure size 1000x500 with 1 Axes>"
      ]
     },
     "metadata": {},
     "output_type": "display_data"
    }
   ],
   "source": [
    "gray = cv.cvtColor(img2, cv.COLOR_BGR2GRAY)\n",
    "gray_hist = cv.calcHist([img2], [2], mask, [256], [0, 256])\n",
    "\n",
    "plt.figure(figsize=(10, 5))\n",
    "plt.title('Grayscale Histogram')\n",
    "plt.xlabel('Pixel Intensity')\n",
    "plt.ylabel('Frequency')\n",
    "plt.plot(gray_hist)\n",
    "plt.xlim([0, 256])\n",
    "plt.show()\n",
    "\n",
    "cv.waitKey(0)\n",
    "cv.destroyAllWindows()\n"
   ]
  },
  {
   "cell_type": "markdown",
   "id": "ef63ec8b",
   "metadata": {},
   "source": [
    "Thresholding and its types"
   ]
  },
  {
   "cell_type": "code",
   "execution_count": null,
   "id": "79fb475f",
   "metadata": {},
   "outputs": [],
   "source": [
    "#Simple thresholding\n",
    "gray = cv.cvtColor(img2, cv.COLOR_BGR2GRAY)\n",
    "threshold, thresh = cv.threshold(gray, 150, 255, cv.THRESH_OTSU)\n",
    "threshold, thresh2 = cv.threshold(gray, 150, 255, cv.THRESH_BINARY)\n",
    "cv.imshow('Simple Thresholding', thresh)\n",
    "cv.imshow('Simple Thresholding2', thresh2)\n",
    "if cv.waitKey(0) & 0xFF == ord('q'):\n",
    "    cv.destroyAllWindows()\n"
   ]
  },
  {
   "cell_type": "code",
   "execution_count": 6,
   "id": "3c0f718b",
   "metadata": {},
   "outputs": [],
   "source": [
    "#adaptive thresholding\n",
    "adaptive_thresh = cv.adaptiveThreshold(gray, 255, cv.ADAPTIVE_THRESH_GAUSSIAN_C, cv.THRESH_BINARY, 11, 2)\n",
    "cv.imshow('Adaptive Thresholding', adaptive_thresh)\n",
    "if cv.waitKey(0) & 0xFF == ord('q'):\n",
    "    cv.destroyAllWindows( )\n",
    "#adaptive thresholding is better than simple thresholding because it calculates the threshold for smaller regions of the image, allowing it to adapt to varying lighting conditions and textures.\n",
    "# This makes it more effective for images with uneven illumination or complex backgrounds, where a global threshold might fail to produce satisfactory results.\n",
    "# It uses the mean or weighted mean of the neighborhood pixels to determine the threshold, which helps in preserving details in different areas of the image.\n",
    "# The parameters for adaptive thresholding are:\n",
    "# - src: Input image (grayscale).\n",
    "# - maxValue: Maximum value to use with the THRESH_BINARY and THRESH_BINARY_INV thresholding types.\n",
    "# - adaptiveMethod: Adaptive method to use, either ADAPTIVE_THRESH_MEAN_C or ADAPTIVE_THRESH_GAUSSIAN_C.\n",
    "# - thresholdType: Type of thresholding to apply, such as THRESH_BINARY or THRESH_BINARY_INV.\n",
    "# - blockSize: Size of the neighborhood area used to calculate the threshold value.\n",
    "# - C: Constant subtracted from the mean or weighted mean to fine-tune the threshold value. can be zero or positive, depending on the desired effect.\n"
   ]
  },
  {
   "cell_type": "code",
   "execution_count": null,
   "id": "f8b2fa74",
   "metadata": {},
   "outputs": [],
   "source": [
    "lap = cv.Laplacian(img2, cv.CV_64F)\n",
    "lap = cv.convertScaleAbs(lap)  # Convert to absolute values for display\n",
    "cv.imshow('Laplacian', lap)\n",
    "if cv.waitKey(0) & 0xFF == ord('q'):\n",
    "    cv.destroyAllWindows()"
   ]
  },
  {
   "cell_type": "code",
   "execution_count": null,
   "id": "9b6095bc",
   "metadata": {},
   "outputs": [],
   "source": []
  }
 ],
 "metadata": {
  "kernelspec": {
   "display_name": "Python 3",
   "language": "python",
   "name": "python3"
  },
  "language_info": {
   "codemirror_mode": {
    "name": "ipython",
    "version": 3
   },
   "file_extension": ".py",
   "mimetype": "text/x-python",
   "name": "python",
   "nbconvert_exporter": "python",
   "pygments_lexer": "ipython3",
   "version": "3.13.5"
  }
 },
 "nbformat": 4,
 "nbformat_minor": 5
}
